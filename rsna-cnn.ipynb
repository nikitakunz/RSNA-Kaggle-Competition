{
 "cells": [
  {
   "cell_type": "markdown",
   "metadata": {},
   "source": [
    "Hi I tried convert Keras team's code to Pytorch including all training pipeline as well."
   ]
  },
  {
   "cell_type": "code",
   "execution_count": null,
   "metadata": {
    "execution": {
     "iopub.execute_input": "2023-10-16T05:31:29.875381Z",
     "iopub.status.busy": "2023-10-16T05:31:29.874876Z",
     "iopub.status.idle": "2023-10-16T05:31:30.950196Z",
     "shell.execute_reply": "2023-10-16T05:31:30.9492Z",
     "shell.execute_reply.started": "2023-10-16T05:31:29.875344Z"
    }
   },
   "outputs": [],
   "source": [
    "import os\n",
    "import torch\n",
    "from torch.utils.data import Dataset, DataLoader\n",
    "from torchvision import transforms\n",
    "from PIL import Image\n",
    "import torch.optim as optim\n",
    "from torch import nn\n",
    "\n",
    "\n",
    "import numpy as np\n",
    "import pandas as pd\n",
    "from matplotlib import pyplot as plt\n",
    "from sklearn.model_selection import train_test_split"
   ]
  },
  {
   "cell_type": "code",
   "execution_count": null,
   "metadata": {
    "execution": {
     "iopub.execute_input": "2023-10-16T05:31:30.952708Z",
     "iopub.status.busy": "2023-10-16T05:31:30.952022Z",
     "iopub.status.idle": "2023-10-16T05:31:30.965483Z",
     "shell.execute_reply": "2023-10-16T05:31:30.964721Z",
     "shell.execute_reply.started": "2023-10-16T05:31:30.952675Z"
    }
   },
   "outputs": [],
   "source": [
    "class Config:\n",
    "    SEED = 42\n",
    "    IMAGE_SIZE = [256, 256]\n",
    "    BATCH_SIZE = 16\n",
    "    EPOCHS = 10\n",
    "    TARGET_COLS  = [\n",
    "        \"bowel_injury\", \"extravasation_injury\",\n",
    "        \"kidney_healthy\", \"kidney_low\", \"kidney_high\",\n",
    "        \"liver_healthy\", \"liver_low\", \"liver_high\",\n",
    "        \"spleen_healthy\", \"spleen_low\", \"spleen_high\",\n",
    "    ]\n",
    "\n",
    "config = Config()\n",
    "len(Config.TARGET_COLS)"
   ]
  },
  {
   "cell_type": "code",
   "execution_count": null,
   "metadata": {
    "execution": {
     "iopub.execute_input": "2023-10-16T05:31:30.96813Z",
     "iopub.status.busy": "2023-10-16T05:31:30.966897Z",
     "iopub.status.idle": "2023-10-16T05:31:30.981743Z",
     "shell.execute_reply": "2023-10-16T05:31:30.980853Z",
     "shell.execute_reply.started": "2023-10-16T05:31:30.9681Z"
    }
   },
   "outputs": [],
   "source": [
    "torch.manual_seed(Config.SEED)"
   ]
  },
  {
   "cell_type": "markdown",
   "metadata": {},
   "source": [
    "# Loading Data"
   ]
  },
  {
   "cell_type": "code",
   "execution_count": null,
   "metadata": {
    "_kg_hide-input": true,
    "execution": {
     "iopub.execute_input": "2023-10-16T05:31:30.986993Z",
     "iopub.status.busy": "2023-10-16T05:31:30.98511Z",
     "iopub.status.idle": "2023-10-16T05:31:30.994778Z",
     "shell.execute_reply": "2023-10-16T05:31:30.993521Z",
     "shell.execute_reply.started": "2023-10-16T05:31:30.986963Z"
    }
   },
   "outputs": [],
   "source": [
    "BASE_PATH = f\"/kaggle/input/rsna-atd-512x512-png-v2-dataset\""
   ]
  },
  {
   "cell_type": "code",
   "execution_count": null,
   "metadata": {
    "execution": {
     "iopub.execute_input": "2023-10-16T05:31:30.996986Z",
     "iopub.status.busy": "2023-10-16T05:31:30.996166Z",
     "iopub.status.idle": "2023-10-16T05:31:31.204672Z",
     "shell.execute_reply": "2023-10-16T05:31:31.20385Z",
     "shell.execute_reply.started": "2023-10-16T05:31:30.996942Z"
    }
   },
   "outputs": [],
   "source": [
    "dataframe = pd.read_csv(f\"{BASE_PATH}/train.csv\")\n",
    "dataframe[\"image_path\"] = f\"{BASE_PATH}/train_images\"\\\n",
    "                    + \"/\" + dataframe.patient_id.astype(str)\\\n",
    "                    + \"/\" + dataframe.series_id.astype(str)\\\n",
    "                    + \"/\" + dataframe.instance_number.astype(str) +\".png\"\n",
    "dataframe = dataframe.drop_duplicates()\n",
    "\n",
    "dataframe.head(10)"
   ]
  },
  {
   "cell_type": "code",
   "execution_count": null,
   "metadata": {
    "execution": {
     "iopub.execute_input": "2023-10-16T05:31:31.210629Z",
     "iopub.status.busy": "2023-10-16T05:31:31.208421Z",
     "iopub.status.idle": "2023-10-16T05:31:31.321671Z",
     "shell.execute_reply": "2023-10-16T05:31:31.320853Z",
     "shell.execute_reply.started": "2023-10-16T05:31:31.210597Z"
    }
   },
   "outputs": [],
   "source": [
    "def split_group(group, test_size=0.2):\n",
    "    if len(group) == 1:\n",
    "        return (group, pd.DataFrame()) if np.random.rand() < test_size else (pd.DataFrame(), group)\n",
    "    else:\n",
    "        return train_test_split(group, test_size=test_size, random_state=42)\n",
    "\n",
    "train_data = pd.DataFrame()\n",
    "val_data = pd.DataFrame()\n",
    "\n",
    "for _, group in dataframe.groupby(config.TARGET_COLS):\n",
    "    train_group, val_group = split_group(group)\n",
    "    train_data = pd.concat([train_data, train_group], ignore_index=True)\n",
    "    val_data = pd.concat([val_data, val_group], ignore_index=True)"
   ]
  },
  {
   "cell_type": "code",
   "execution_count": null,
   "metadata": {
    "execution": {
     "iopub.execute_input": "2023-10-16T05:31:31.32355Z",
     "iopub.status.busy": "2023-10-16T05:31:31.322967Z",
     "iopub.status.idle": "2023-10-16T05:31:31.331585Z",
     "shell.execute_reply": "2023-10-16T05:31:31.330022Z",
     "shell.execute_reply.started": "2023-10-16T05:31:31.32352Z"
    }
   },
   "outputs": [],
   "source": [
    "train_data.shape, val_data.shape"
   ]
  },
  {
   "cell_type": "markdown",
   "metadata": {},
   "source": [
    "# torch dataloader with augmentation"
   ]
  },
  {
   "cell_type": "code",
   "execution_count": null,
   "metadata": {
    "execution": {
     "iopub.execute_input": "2023-10-16T05:31:31.33529Z",
     "iopub.status.busy": "2023-10-16T05:31:31.333421Z",
     "iopub.status.idle": "2023-10-16T05:31:31.352113Z",
     "shell.execute_reply": "2023-10-16T05:31:31.351093Z",
     "shell.execute_reply.started": "2023-10-16T05:31:31.335261Z"
    }
   },
   "outputs": [],
   "source": [
    "paths  = train_data.image_path.tolist()\n",
    "labels = train_data[config.TARGET_COLS].values\n",
    "\n",
    "class CustomDataset(Dataset):\n",
    "    def __init__(self, paths, labels, transform=None):\n",
    "        self.paths = paths\n",
    "        self.labels = labels\n",
    "        self.transform = transform\n",
    "\n",
    "    def __len__(self):\n",
    "        return len(self.paths)\n",
    "\n",
    "    def __getitem__(self, idx):\n",
    "        image = Image.open(self.paths[idx]).convert('RGB')\n",
    "        label = torch.tensor(self.labels[idx], dtype=torch.float32)\n",
    "\n",
    "        if self.transform:\n",
    "            image = self.transform(image)\n",
    "\n",
    "        return image, label\n",
    "\n",
    "transform = transforms.Compose([\n",
    "    transforms.Resize((256, 256)),\n",
    "    transforms.RandomResizedCrop(256),   \n",
    "    transforms.RandomHorizontalFlip(),    \n",
    "    transforms.ColorJitter(brightness=0.2, contrast=0.2, saturation=0.2, hue=0.1),  # Color jitter\n",
    "    transforms.ToTensor(),\n",
    "    transforms.Normalize(mean=[0.485, 0.456, 0.406], std=[0.229, 0.224, 0.225]),\n",
    "])"
   ]
  },
  {
   "cell_type": "markdown",
   "metadata": {},
   "source": [
    "## Converting Dataframe to dataloader"
   ]
  },
  {
   "cell_type": "code",
   "execution_count": null,
   "metadata": {
    "execution": {
     "iopub.execute_input": "2023-10-16T05:31:31.354663Z",
     "iopub.status.busy": "2023-10-16T05:31:31.353971Z",
     "iopub.status.idle": "2023-10-16T05:31:31.36845Z",
     "shell.execute_reply": "2023-10-16T05:31:31.367434Z",
     "shell.execute_reply.started": "2023-10-16T05:31:31.354635Z"
    }
   },
   "outputs": [],
   "source": [
    "print(\"[INFO] Building the dataset...\")\n",
    "\n",
    "train_paths  = train_data.image_path.tolist()\n",
    "train_labels = train_data[config.TARGET_COLS].values\n",
    "\n",
    "val_paths  = val_data.image_path.tolist()\n",
    "val_labels = val_data[config.TARGET_COLS].values\n",
    "\n",
    "\n",
    "batch_size = 32\n",
    "\n",
    "dataset_train = CustomDataset(train_paths, train_labels, transform=transform)\n",
    "train_dataloader = DataLoader(dataset_train, batch_size=batch_size, shuffle=True)\n",
    "\n",
    "dataset_val = CustomDataset(val_paths, val_labels, transform=transform)\n",
    "val_dataloader = DataLoader(dataset_val, batch_size=batch_size, shuffle=True)\n",
    "\n",
    "\n",
    "dataset_size = len(dataset_train) \n",
    "batch_size = 32 \n",
    "total_epochs = 50\n",
    "\n",
    "total_train_steps = dataset_size * batch_size * total_epochs\n",
    "\n",
    "warmup_steps = int(total_train_steps * 0.10)\n",
    "\n",
    "decay_steps = total_train_steps - warmup_steps\n",
    "\n",
    "print(f\"Total Train Steps: {total_train_steps}\")\n",
    "print(f\"Warmup Steps: {warmup_steps}\")\n",
    "print(f\"Decay Steps: {decay_steps}\")"
   ]
  },
  {
   "cell_type": "code",
   "execution_count": null,
   "metadata": {
    "execution": {
     "iopub.execute_input": "2023-10-16T05:31:31.376449Z",
     "iopub.status.busy": "2023-10-16T05:31:31.375894Z",
     "iopub.status.idle": "2023-10-16T05:31:32.14595Z",
     "shell.execute_reply": "2023-10-16T05:31:32.145042Z",
     "shell.execute_reply.started": "2023-10-16T05:31:31.376421Z"
    }
   },
   "outputs": [],
   "source": [
    "for img, label in train_dataloader:\n",
    "  print(img.shape)\n",
    "  break"
   ]
  },
  {
   "cell_type": "markdown",
   "metadata": {},
   "source": [
    "## display some images"
   ]
  },
  {
   "cell_type": "code",
   "execution_count": null,
   "metadata": {
    "execution": {
     "iopub.execute_input": "2023-10-16T05:31:32.147657Z",
     "iopub.status.busy": "2023-10-16T05:31:32.147351Z",
     "iopub.status.idle": "2023-10-16T05:31:32.752193Z",
     "shell.execute_reply": "2023-10-16T05:31:32.751325Z",
     "shell.execute_reply.started": "2023-10-16T05:31:32.147628Z"
    }
   },
   "outputs": [],
   "source": [
    "def show_images(images, labels):\n",
    "    fig, axes = plt.subplots(1, len(images), figsize=(15, 5))\n",
    "    for idx, (image, label) in enumerate(zip(images, labels)):\n",
    "        image = image.permute(1, 2, 0)  # Convert from (C, H, W) to (H, W, C) for displaying\n",
    "        axes[idx].imshow(image)\n",
    "        label_str = \", \".join([str(val) for val in label])  # Convert label tensor to string\n",
    "        axes[idx].set_title(f\"Labels: {label_str}\")\n",
    "        axes[idx].axis(\"off\")\n",
    "    plt.show()\n",
    "\n",
    "num_images_to_display = 5\n",
    "sample_indices = torch.randint(len(dataset_train), size=(num_images_to_display,))\n",
    "sample_images = [dataset_train[i][0] for i in sample_indices]\n",
    "sample_labels = [dataset_train[i][1] for i in sample_indices]\n",
    "\n",
    "sample_labels_np = [label.numpy() for label in sample_labels]\n",
    "\n",
    "show_images(sample_images, sample_labels_np)"
   ]
  },
  {
   "cell_type": "markdown",
   "metadata": {},
   "source": [
    "## Simple CNN"
   ]
  },
  {
   "cell_type": "code",
   "execution_count": null,
   "metadata": {
    "execution": {
     "iopub.execute_input": "2023-10-16T05:31:32.753396Z",
     "iopub.status.busy": "2023-10-16T05:31:32.753106Z",
     "iopub.status.idle": "2023-10-16T05:31:36.12096Z",
     "shell.execute_reply": "2023-10-16T05:31:36.120061Z",
     "shell.execute_reply.started": "2023-10-16T05:31:32.753368Z"
    }
   },
   "outputs": [],
   "source": [
    "class SimpleCNN(nn.Module):\n",
    "    def __init__(self, num_classes=11):\n",
    "        super(SimpleCNN, self).__init__()\n",
    "        \n",
    "        self.conv_layers = nn.Sequential(\n",
    "            nn.Conv2d(in_channels=3, out_channels=32, kernel_size=3, stride=1, padding=1),\n",
    "            nn.ReLU(),\n",
    "            nn.MaxPool2d(kernel_size=2, stride=2),\n",
    "            nn.Conv2d(in_channels=32, out_channels=64, kernel_size=3, stride=1, padding=1),\n",
    "            nn.ReLU(),\n",
    "            nn.MaxPool2d(kernel_size=2, stride=2)\n",
    "        )\n",
    "        \n",
    "        self.fc_layers = nn.Sequential(\n",
    "            nn.Linear(64 * 64 * 64, 128),\n",
    "            nn.ReLU(),\n",
    "            nn.Linear(128, num_classes)\n",
    "        )\n",
    "        \n",
    "    def forward(self, x):\n",
    "        x = self.conv_layers(x)\n",
    "        x = x.view(x.size(0), -1)\n",
    "        x = self.fc_layers(x)\n",
    "        return x\n",
    "\n",
    "model = SimpleCNN(num_classes=11).to('cuda')"
   ]
  },
  {
   "cell_type": "markdown",
   "metadata": {},
   "source": [
    "## training the model"
   ]
  },
  {
   "cell_type": "code",
   "execution_count": null,
   "metadata": {
    "execution": {
     "iopub.execute_input": "2023-10-16T05:31:36.122781Z",
     "iopub.status.busy": "2023-10-16T05:31:36.122452Z",
     "iopub.status.idle": "2023-10-16T06:29:36.261651Z",
     "shell.execute_reply": "2023-10-16T06:29:36.260641Z",
     "shell.execute_reply.started": "2023-10-16T05:31:36.12275Z"
    }
   },
   "outputs": [],
   "source": [
    "import torch\n",
    "import torch.nn as nn\n",
    "\n",
    "\n",
    "model = SimpleCNN(num_classes=11).to('cuda')\n",
    "\n",
    "criterion = nn.BCEWithLogitsLoss() \n",
    "optimizer = torch.optim.Adam(model.parameters(), lr=1e-4)\n",
    "scheduler = torch.optim.lr_scheduler.CosineAnnealingLR(optimizer, T_max=5)\n",
    "\n",
    "total_epochs = 25 \n",
    "\n",
    "\n",
    "train_losses = []\n",
    "val_losses = []\n",
    "val_accuracies = []\n",
    "\n",
    "for epoch in range(total_epochs):\n",
    "    model.train() \n",
    "    for images, labels in train_dataloader:\n",
    "        optimizer.zero_grad()\n",
    "        \n",
    "        # Move data to GPU\n",
    "        images = images.to('cuda')\n",
    "        labels = labels.to('cuda')\n",
    "        \n",
    "        outputs = model(images)\n",
    "        \n",
    "        loss = criterion(outputs, labels)\n",
    "        \n",
    "        loss.backward()\n",
    "        optimizer.step()\n",
    "    \n",
    "    scheduler.step()\n",
    "    \n",
    "    \n",
    "    \n",
    "    model.eval()  \n",
    "    val_loss = 0.0\n",
    "    correct = 0\n",
    "    total = 0\n",
    "    with torch.no_grad():\n",
    "        for images, labels in val_dataloader:\n",
    "            images = images.to('cuda')\n",
    "            labels = labels.to('cuda')\n",
    "            \n",
    "            outputs = model(images)\n",
    "            val_loss += criterion(outputs, labels).item()\n",
    "            \n",
    "            predicted = (outputs > 0.5).int()\n",
    "            total += labels.size(0) * labels.size(1)\n",
    "            correct += (predicted == labels).sum().item()\n",
    "    \n",
    "    val_loss /= len(val_dataloader)\n",
    "    val_accuracy = 100.0 * correct / total\n",
    "    \n",
    "    train_losses.append(loss.item())\n",
    "    val_losses.append(val_loss)\n",
    "    val_accuracies.append(val_accuracy)\n",
    "    print(f\"Epoch [{epoch+1}/{total_epochs}] - Loss: {loss:.4f} - Val Loss: {val_loss:.4f} - Val Acc: {val_accuracy:.2f}%\")"
   ]
  },
  {
   "cell_type": "code",
   "execution_count": null,
   "metadata": {
    "execution": {
     "iopub.execute_input": "2023-10-16T06:29:36.263965Z",
     "iopub.status.busy": "2023-10-16T06:29:36.263065Z",
     "iopub.status.idle": "2023-10-16T06:29:36.796282Z",
     "shell.execute_reply": "2023-10-16T06:29:36.795399Z",
     "shell.execute_reply.started": "2023-10-16T06:29:36.263928Z"
    }
   },
   "outputs": [],
   "source": [
    "plt.figure(figsize=(12, 4))\n",
    "plt.subplot(1, 2, 1)\n",
    "plt.plot(train_losses, label='Train')\n",
    "plt.plot(val_losses, label='Validation')\n",
    "plt.xlabel('Epoch')\n",
    "plt.ylabel('Loss')\n",
    "plt.legend()\n",
    "plt.title('Training and Validation Loss')\n",
    "\n",
    "plt.subplot(1, 2, 2)\n",
    "plt.plot(val_accuracies, label='Validation')\n",
    "plt.xlabel('Epoch')\n",
    "plt.ylabel('Accuracy (%)')\n",
    "plt.legend()\n",
    "plt.title('Validation Accuracy')\n",
    "\n",
    "plt.tight_layout()\n",
    "plt.show()"
   ]
  },
  {
   "cell_type": "code",
   "execution_count": null,
   "metadata": {
    "execution": {
     "iopub.execute_input": "2023-10-16T06:29:36.798273Z",
     "iopub.status.busy": "2023-10-16T06:29:36.797435Z",
     "iopub.status.idle": "2023-10-16T06:29:37.116684Z",
     "shell.execute_reply": "2023-10-16T06:29:37.115864Z",
     "shell.execute_reply.started": "2023-10-16T06:29:36.798242Z"
    }
   },
   "outputs": [],
   "source": [
    "import matplotlib.pyplot as plt\n",
    "import numpy as np\n",
    "\n",
    "model.eval()\n",
    "\n",
    "random_index = np.random.randint(len(dataset_val))\n",
    "image, label = dataset_val[random_index]\n",
    "\n",
    "image = image.to('cuda')\n",
    "\n",
    "with torch.no_grad():\n",
    "    output = model(image.unsqueeze(0))\n",
    "\n",
    "predicted_probs = torch.sigmoid(output)[0]\n",
    "\n",
    "predicted_labels = (predicted_probs > 0.5).int()\n",
    "\n",
    "\n",
    "plt.imshow(image.permute(1, 2, 0).cpu())\n",
    "#plt.title(f\"Actual Labels: {label}\\nPredicted Labels: {predicted_labels}\")\n",
    "plt.title(f\"Actual Labels: {label}\\nPredicted Labels: {predicted_labels}\")\n",
    "plt.show()"
   ]
  },
  {
   "cell_type": "code",
   "execution_count": null,
   "metadata": {
    "execution": {
     "iopub.execute_input": "2023-10-16T06:29:37.118696Z",
     "iopub.status.busy": "2023-10-16T06:29:37.117858Z",
     "iopub.status.idle": "2023-10-16T06:29:37.143904Z",
     "shell.execute_reply": "2023-10-16T06:29:37.142877Z",
     "shell.execute_reply.started": "2023-10-16T06:29:37.118665Z"
    }
   },
   "outputs": [],
   "source": [
    "df_sub = pd.read_csv(\"/kaggle/input/rsna-atd-512x512-png-v2-dataset/sample_submission.csv\")\n",
    "df_sub"
   ]
  },
  {
   "cell_type": "code",
   "execution_count": null,
   "metadata": {
    "execution": {
     "iopub.execute_input": "2023-10-16T06:29:37.14534Z",
     "iopub.status.busy": "2023-10-16T06:29:37.145038Z",
     "iopub.status.idle": "2023-10-16T06:29:37.150774Z",
     "shell.execute_reply": "2023-10-16T06:29:37.149951Z",
     "shell.execute_reply.started": "2023-10-16T06:29:37.145309Z"
    }
   },
   "outputs": [],
   "source": [
    "submission_paths= [\"/kaggle/input/rsna-atd-512x512-png-v2-dataset/test_images/48843/62825/30.png\",\n",
    "                \"/kaggle/input/rsna-atd-512x512-png-v2-dataset/test_images/50046/24574/30.png\",\n",
    "                \"/kaggle/input/rsna-atd-512x512-png-v2-dataset/test_images/63706/39279/30.png\"\n",
    "               ]\n",
    "id_list = [48843, 50046, 63706]"
   ]
  },
  {
   "cell_type": "markdown",
   "metadata": {},
   "source": []
  },
  {
   "cell_type": "code",
   "execution_count": null,
   "metadata": {
    "execution": {
     "iopub.execute_input": "2023-10-16T06:29:37.15312Z",
     "iopub.status.busy": "2023-10-16T06:29:37.152131Z",
     "iopub.status.idle": "2023-10-16T06:29:37.257177Z",
     "shell.execute_reply": "2023-10-16T06:29:37.25626Z",
     "shell.execute_reply.started": "2023-10-16T06:29:37.153089Z"
    }
   },
   "outputs": [],
   "source": [
    "#random_seed = 42\n",
    "#np.random.seed(random_seed)\n",
    "\n",
    "import torch.nn.functional as F\n",
    "def predict_classes(image_paths):\n",
    "    predictions = []\n",
    "    for image_path in image_paths:\n",
    "        image = Image.open(image_path).convert('RGB')\n",
    "        input_image = transform(image).unsqueeze(0).to(\"cuda\")\n",
    "        with torch.no_grad():\n",
    "            output = model(input_image)\n",
    "        predicted_probs = F.sigmoid(output)[0]\n",
    "        predicted_class_index = (predicted_probs > 0.5).int()\n",
    "        predictions.append({'Image Path': image_path, 'Predicted Class Index': predicted_class_index.cpu().numpy()})\n",
    "    return pd.DataFrame(predictions)\n",
    "\n",
    "df = predict_classes(submission_paths)\n",
    "df[\"patient_id\"] = id_list\n",
    "df[config.TARGET_COLS] = df['Predicted Class Index'].apply(pd.Series)\n",
    "df.drop([\"Image Path\", \"Predicted Class Index\"], axis=1, inplace=True)"
   ]
  },
  {
   "cell_type": "code",
   "execution_count": null,
   "metadata": {
    "execution": {
     "iopub.execute_input": "2023-10-16T06:29:37.258762Z",
     "iopub.status.busy": "2023-10-16T06:29:37.258472Z",
     "iopub.status.idle": "2023-10-16T06:29:37.26907Z",
     "shell.execute_reply": "2023-10-16T06:29:37.267944Z",
     "shell.execute_reply.started": "2023-10-16T06:29:37.258733Z"
    }
   },
   "outputs": [],
   "source": [
    "df"
   ]
  },
  {
   "cell_type": "code",
   "execution_count": null,
   "metadata": {
    "execution": {
     "iopub.execute_input": "2023-10-16T06:29:37.2713Z",
     "iopub.status.busy": "2023-10-16T06:29:37.270355Z",
     "iopub.status.idle": "2023-10-16T06:29:37.281824Z",
     "shell.execute_reply": "2023-10-16T06:29:37.28086Z",
     "shell.execute_reply.started": "2023-10-16T06:29:37.27127Z"
    }
   },
   "outputs": [],
   "source": [
    "df.to_csv(\"submission.csv\")"
   ]
  }
 ],
 "metadata": {
  "kaggle": {
   "accelerator": "gpu",
   "dataSources": [
    {
     "databundleVersionId": 9674523,
     "sourceId": 52254,
     "sourceType": "competition"
    },
    {
     "datasetId": 3567114,
     "sourceId": 6211844,
     "sourceType": "datasetVersion"
    }
   ],
   "isGpuEnabled": true,
   "isInternetEnabled": false,
   "language": "python",
   "sourceType": "notebook"
  },
  "kernelspec": {
   "display_name": "Python 3 (ipykernel)",
   "language": "python",
   "name": "python3"
  },
  "language_info": {
   "codemirror_mode": {
    "name": "ipython",
    "version": 3
   },
   "file_extension": ".py",
   "mimetype": "text/x-python",
   "name": "python",
   "nbconvert_exporter": "python",
   "pygments_lexer": "ipython3",
   "version": "3.9.7"
  },
  "toc": {
   "base_numbering": 1,
   "nav_menu": {},
   "number_sections": true,
   "sideBar": true,
   "skip_h1_title": false,
   "title_cell": "Table of Contents",
   "title_sidebar": "Contents",
   "toc_cell": false,
   "toc_position": {},
   "toc_section_display": true,
   "toc_window_display": false
  }
 },
 "nbformat": 4,
 "nbformat_minor": 4
}
